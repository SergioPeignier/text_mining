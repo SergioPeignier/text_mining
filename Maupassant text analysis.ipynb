{
 "cells": [
  {
   "cell_type": "code",
   "execution_count": 3,
   "metadata": {},
   "outputs": [],
   "source": [
    "library(repr)\n",
    "library(ggplot2)\n",
    "library(gutenbergr)\n",
    "options(jupyter.plot_mimetypes = 'image/png')"
   ]
  },
  {
   "cell_type": "markdown",
   "metadata": {},
   "source": [
    "# Parse the Gutemberg data base \n",
    "\n",
    "+ use the [gutemberger library](https://cran.r-project.org/web/packages/gutenbergr/README.html)\n",
    "+ use the `grepl` command to filter the requiered data set"
   ]
  },
  {
   "cell_type": "code",
   "execution_count": 12,
   "metadata": {},
   "outputs": [
    {
     "data": {
      "text/html": [
       "<table>\n",
       "<thead><tr><th scope=col>gutenberg_id</th><th scope=col>title</th><th scope=col>author</th><th scope=col>gutenberg_author_id</th><th scope=col>language</th><th scope=col>gutenberg_bookshelf</th><th scope=col>rights</th><th scope=col>has_text</th></tr></thead>\n",
       "<tbody>\n",
       "\t<tr><td>10746                      </td><td>Boule de Suif              </td><td>Maupassant, Guy de         </td><td>306                        </td><td>fr                         </td><td>FR Nouvelles               </td><td>Public domain in the USA.  </td><td>TRUE                       </td></tr>\n",
       "\t<tr><td>10775                      </td><td>Le Horla                   </td><td>Maupassant, Guy de         </td><td>306                        </td><td>fr                         </td><td>Gothic Fiction/FR Nouvelles</td><td>Public domain in the USA.  </td><td>TRUE                       </td></tr>\n",
       "\t<tr><td>11131                      </td><td>Pierre et Jean             </td><td>Maupassant, Guy de         </td><td>306                        </td><td>fr                         </td><td>FR Littérature             </td><td>Public domain in the USA.  </td><td>TRUE                       </td></tr>\n",
       "</tbody>\n",
       "</table>\n"
      ],
      "text/latex": [
       "\\begin{tabular}{r|llllllll}\n",
       " gutenberg\\_id & title & author & gutenberg\\_author\\_id & language & gutenberg\\_bookshelf & rights & has\\_text\\\\\n",
       "\\hline\n",
       "\t 10746                       & Boule de Suif               & Maupassant, Guy de          & 306                         & fr                          & FR Nouvelles                & Public domain in the USA.   & TRUE                       \\\\\n",
       "\t 10775                       & Le Horla                    & Maupassant, Guy de          & 306                         & fr                          & Gothic Fiction/FR Nouvelles & Public domain in the USA.   & TRUE                       \\\\\n",
       "\t 11131                       & Pierre et Jean              & Maupassant, Guy de          & 306                         & fr                          & FR Littérature              & Public domain in the USA.   & TRUE                       \\\\\n",
       "\\end{tabular}\n"
      ],
      "text/markdown": [
       "\n",
       "gutenberg_id | title | author | gutenberg_author_id | language | gutenberg_bookshelf | rights | has_text | \n",
       "|---|---|---|\n",
       "| 10746                       | Boule de Suif               | Maupassant, Guy de          | 306                         | fr                          | FR Nouvelles                | Public domain in the USA.   | TRUE                        | \n",
       "| 10775                       | Le Horla                    | Maupassant, Guy de          | 306                         | fr                          | Gothic Fiction/FR Nouvelles | Public domain in the USA.   | TRUE                        | \n",
       "| 11131                       | Pierre et Jean              | Maupassant, Guy de          | 306                         | fr                          | FR Littérature              | Public domain in the USA.   | TRUE                        | \n",
       "\n",
       "\n"
      ],
      "text/plain": [
       "  gutenberg_id title          author             gutenberg_author_id language\n",
       "1 10746        Boule de Suif  Maupassant, Guy de 306                 fr      \n",
       "2 10775        Le Horla       Maupassant, Guy de 306                 fr      \n",
       "3 11131        Pierre et Jean Maupassant, Guy de 306                 fr      \n",
       "  gutenberg_bookshelf         rights                    has_text\n",
       "1 FR Nouvelles                Public domain in the USA. TRUE    \n",
       "2 Gothic Fiction/FR Nouvelles Public domain in the USA. TRUE    \n",
       "3 FR Littérature              Public domain in the USA. TRUE    "
      ]
     },
     "metadata": {},
     "output_type": "display_data"
    }
   ],
   "source": [
    "french_books = gutenberg_works(only_text=1, only_languages=1, languages=\"fr\")\n",
    "maupassant_books = french_works[grepl(\"Maupassant\", french_works$author), ]\n",
    "maupassant_books[c(1,2,3),]"
   ]
  },
  {
   "cell_type": "markdown",
   "metadata": {},
   "source": [
    "# Download the books\n",
    "The result is a two column `tbl_df` dataframe from the `dplyr` library. It has one row per line of the text.\n",
    "This dataframes are only a wrapper of the R dataframes to avoid long prints"
   ]
  },
  {
   "cell_type": "code",
   "execution_count": 17,
   "metadata": {},
   "outputs": [],
   "source": [
    "maupassant_downloaded_books <- gutenberg_download(maupassant_books$gutenberg_id)"
   ]
  },
  {
   "cell_type": "code",
   "execution_count": 19,
   "metadata": {
    "collapsed": true
   },
   "outputs": [],
   "source": [
    "write.csv(maupassant_downloaded_books,\"maupassant.csv\")"
   ]
  },
  {
   "cell_type": "code",
   "execution_count": null,
   "metadata": {
    "collapsed": true
   },
   "outputs": [],
   "source": []
  }
 ],
 "metadata": {
  "kernelspec": {
   "display_name": "R",
   "language": "R",
   "name": "ir"
  },
  "language_info": {
   "codemirror_mode": "r",
   "file_extension": ".r",
   "mimetype": "text/x-r-source",
   "name": "R",
   "pygments_lexer": "r",
   "version": "3.3.3"
  }
 },
 "nbformat": 4,
 "nbformat_minor": 2
}

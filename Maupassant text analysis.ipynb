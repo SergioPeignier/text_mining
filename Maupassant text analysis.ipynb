{
 "cells": [
  {
   "cell_type": "code",
   "execution_count": 5,
   "metadata": {
    "collapsed": true
   },
   "outputs": [],
   "source": [
    "library(repr)\n",
    "library(ggplot2)\n",
    "library(gutenbergr)\n",
    "options(jupyter.plot_mimetypes = 'image/png')"
   ]
  },
  {
   "cell_type": "markdown",
   "metadata": {},
   "source": [
    "# Parse the Gutemberg data base \n",
    "\n",
    "+ use the [gutemberger library](https://cran.r-project.org/web/packages/gutenbergr/README.html)\n",
    "+ use the `grepl` command to filter the requiered data set"
   ]
  },
  {
   "cell_type": "code",
   "execution_count": 71,
   "metadata": {},
   "outputs": [
    {
     "data": {
      "text/html": [
       "<table>\n",
       "<thead><tr><th scope=col>gutenberg_id</th><th scope=col>title</th><th scope=col>author</th><th scope=col>gutenberg_author_id</th><th scope=col>language</th><th scope=col>gutenberg_bookshelf</th><th scope=col>rights</th><th scope=col>has_text</th></tr></thead>\n",
       "<tbody>\n",
       "\t<tr><td>10746                      </td><td>Boule de Suif              </td><td>Maupassant, Guy de         </td><td>306                        </td><td>fr                         </td><td>FR Nouvelles               </td><td>Public domain in the USA.  </td><td>TRUE                       </td></tr>\n",
       "\t<tr><td>10775                      </td><td>Le Horla                   </td><td>Maupassant, Guy de         </td><td>306                        </td><td>fr                         </td><td>Gothic Fiction/FR Nouvelles</td><td>Public domain in the USA.  </td><td>TRUE                       </td></tr>\n",
       "\t<tr><td>11131                      </td><td>Pierre et Jean             </td><td>Maupassant, Guy de         </td><td>306                        </td><td>fr                         </td><td>FR Littérature             </td><td>Public domain in the USA.  </td><td>TRUE                       </td></tr>\n",
       "</tbody>\n",
       "</table>\n"
      ],
      "text/latex": [
       "\\begin{tabular}{r|llllllll}\n",
       " gutenberg\\_id & title & author & gutenberg\\_author\\_id & language & gutenberg\\_bookshelf & rights & has\\_text\\\\\n",
       "\\hline\n",
       "\t 10746                       & Boule de Suif               & Maupassant, Guy de          & 306                         & fr                          & FR Nouvelles                & Public domain in the USA.   & TRUE                       \\\\\n",
       "\t 10775                       & Le Horla                    & Maupassant, Guy de          & 306                         & fr                          & Gothic Fiction/FR Nouvelles & Public domain in the USA.   & TRUE                       \\\\\n",
       "\t 11131                       & Pierre et Jean              & Maupassant, Guy de          & 306                         & fr                          & FR Littérature              & Public domain in the USA.   & TRUE                       \\\\\n",
       "\\end{tabular}\n"
      ],
      "text/markdown": [
       "\n",
       "gutenberg_id | title | author | gutenberg_author_id | language | gutenberg_bookshelf | rights | has_text | \n",
       "|---|---|---|\n",
       "| 10746                       | Boule de Suif               | Maupassant, Guy de          | 306                         | fr                          | FR Nouvelles                | Public domain in the USA.   | TRUE                        | \n",
       "| 10775                       | Le Horla                    | Maupassant, Guy de          | 306                         | fr                          | Gothic Fiction/FR Nouvelles | Public domain in the USA.   | TRUE                        | \n",
       "| 11131                       | Pierre et Jean              | Maupassant, Guy de          | 306                         | fr                          | FR Littérature              | Public domain in the USA.   | TRUE                        | \n",
       "\n",
       "\n"
      ],
      "text/plain": [
       "  gutenberg_id title          author             gutenberg_author_id language\n",
       "1 10746        Boule de Suif  Maupassant, Guy de 306                 fr      \n",
       "2 10775        Le Horla       Maupassant, Guy de 306                 fr      \n",
       "3 11131        Pierre et Jean Maupassant, Guy de 306                 fr      \n",
       "  gutenberg_bookshelf         rights                    has_text\n",
       "1 FR Nouvelles                Public domain in the USA. TRUE    \n",
       "2 Gothic Fiction/FR Nouvelles Public domain in the USA. TRUE    \n",
       "3 FR Littérature              Public domain in the USA. TRUE    "
      ]
     },
     "metadata": {},
     "output_type": "display_data"
    }
   ],
   "source": [
    "french_books = gutenberg_works(only_text=1, only_languages=1, languages=\"fr\")\n",
    "maupassant_books = french_books[grepl(\"Maupassant\", french_books$author), ]\n",
    "maupassant_books[c(1,2,3),]"
   ]
  },
  {
   "cell_type": "markdown",
   "metadata": {},
   "source": [
    "# Download the books\n",
    "The result is a two column `tbl_df` dataframe from the `dplyr` library. It has one row per line of the text.\n",
    "This dataframes are only a wrapper of the R dataframes to avoid long prints"
   ]
  },
  {
   "cell_type": "code",
   "execution_count": 72,
   "metadata": {},
   "outputs": [
    {
     "name": "stderr",
     "output_type": "stream",
     "text": [
      "Determining mirror for Project Gutenberg from http://www.gutenberg.org/robot/harvest\n",
      "Using mirror http://aleph.gutenberg.org\n"
     ]
    }
   ],
   "source": [
    "maupassant_downloaded_books <- gutenberg_download(maupassant_books$gutenberg_id)"
   ]
  },
  {
   "cell_type": "code",
   "execution_count": 73,
   "metadata": {},
   "outputs": [
    {
     "data": {
      "text/html": [
       "<table>\n",
       "<thead><tr><th scope=col>gutenberg_id</th><th scope=col>text</th></tr></thead>\n",
       "<tbody>\n",
       "\t<tr><td>10746                                                                   </td><td>BOULE DE SUIF                                                           </td></tr>\n",
       "\t<tr><td>10746                                                                   </td><td>                                                                        </td></tr>\n",
       "\t<tr><td>10746                                                                   </td><td>                                                                        </td></tr>\n",
       "\t<tr><td>10746                                                                   </td><td>Pendant plusieurs jours de suite des lambeaux d'armee en deroute avaient</td></tr>\n",
       "\t<tr><td>10746                                                                   </td><td>traverse la ville. Ce n'etait point de la troupe, mais des hordes       </td></tr>\n",
       "\t<tr><td>10746                                                                   </td><td>debandees. Les hommes avaient la barbe longue et sale, des uniformes    </td></tr>\n",
       "\t<tr><td>10746                                                                   </td><td>en guenilles, et ils avancaient d'une allure molle, sans drapeau, sans  </td></tr>\n",
       "\t<tr><td>10746                                                                   </td><td>regiment. Tous semblaient accables, ereintes, incapables d'une pensee ou</td></tr>\n",
       "\t<tr><td>10746                                                                   </td><td>d'une resolution, marchant seulement par habitude, et tombant de fatigue</td></tr>\n",
       "\t<tr><td>10746                                                                   </td><td>sitot qu'ils s'arretaient. On voyait surtout des mobilises, gens        </td></tr>\n",
       "</tbody>\n",
       "</table>\n"
      ],
      "text/latex": [
       "\\begin{tabular}{r|ll}\n",
       " gutenberg\\_id & text\\\\\n",
       "\\hline\n",
       "\t 10746                                                                    & BOULE DE SUIF                                                           \\\\\n",
       "\t 10746                                                                    &                                                                         \\\\\n",
       "\t 10746                                                                    &                                                                         \\\\\n",
       "\t 10746                                                                    & Pendant plusieurs jours de suite des lambeaux d'armee en deroute avaient\\\\\n",
       "\t 10746                                                                    & traverse la ville. Ce n'etait point de la troupe, mais des hordes       \\\\\n",
       "\t 10746                                                                    & debandees. Les hommes avaient la barbe longue et sale, des uniformes    \\\\\n",
       "\t 10746                                                                    & en guenilles, et ils avancaient d'une allure molle, sans drapeau, sans  \\\\\n",
       "\t 10746                                                                    & regiment. Tous semblaient accables, ereintes, incapables d'une pensee ou\\\\\n",
       "\t 10746                                                                    & d'une resolution, marchant seulement par habitude, et tombant de fatigue\\\\\n",
       "\t 10746                                                                    & sitot qu'ils s'arretaient. On voyait surtout des mobilises, gens        \\\\\n",
       "\\end{tabular}\n"
      ],
      "text/markdown": [
       "\n",
       "gutenberg_id | text | \n",
       "|---|---|---|---|---|---|---|---|---|---|\n",
       "| 10746                                                                    | BOULE DE SUIF                                                            | \n",
       "| 10746                                                                    |                                                                          | \n",
       "| 10746                                                                    |                                                                          | \n",
       "| 10746                                                                    | Pendant plusieurs jours de suite des lambeaux d'armee en deroute avaient | \n",
       "| 10746                                                                    | traverse la ville. Ce n'etait point de la troupe, mais des hordes        | \n",
       "| 10746                                                                    | debandees. Les hommes avaient la barbe longue et sale, des uniformes     | \n",
       "| 10746                                                                    | en guenilles, et ils avancaient d'une allure molle, sans drapeau, sans   | \n",
       "| 10746                                                                    | regiment. Tous semblaient accables, ereintes, incapables d'une pensee ou | \n",
       "| 10746                                                                    | d'une resolution, marchant seulement par habitude, et tombant de fatigue | \n",
       "| 10746                                                                    | sitot qu'ils s'arretaient. On voyait surtout des mobilises, gens         | \n",
       "\n",
       "\n"
      ],
      "text/plain": [
       "   gutenberg_id\n",
       "1  10746       \n",
       "2  10746       \n",
       "3  10746       \n",
       "4  10746       \n",
       "5  10746       \n",
       "6  10746       \n",
       "7  10746       \n",
       "8  10746       \n",
       "9  10746       \n",
       "10 10746       \n",
       "   text                                                                    \n",
       "1  BOULE DE SUIF                                                           \n",
       "2                                                                          \n",
       "3                                                                          \n",
       "4  Pendant plusieurs jours de suite des lambeaux d'armee en deroute avaient\n",
       "5  traverse la ville. Ce n'etait point de la troupe, mais des hordes       \n",
       "6  debandees. Les hommes avaient la barbe longue et sale, des uniformes    \n",
       "7  en guenilles, et ils avancaient d'une allure molle, sans drapeau, sans  \n",
       "8  regiment. Tous semblaient accables, ereintes, incapables d'une pensee ou\n",
       "9  d'une resolution, marchant seulement par habitude, et tombant de fatigue\n",
       "10 sitot qu'ils s'arretaient. On voyait surtout des mobilises, gens        "
      ]
     },
     "metadata": {},
     "output_type": "display_data"
    }
   ],
   "source": [
    "maupassant_downloaded_books[seq(76,85),]"
   ]
  },
  {
   "cell_type": "code",
   "execution_count": 74,
   "metadata": {},
   "outputs": [],
   "source": [
    "write.csv(maupassant_downloaded_books,\"maupassant.csv\")"
   ]
  },
  {
   "cell_type": "markdown",
   "metadata": {},
   "source": [
    "# Load downloaded data "
   ]
  },
  {
   "cell_type": "code",
   "execution_count": 3,
   "metadata": {
    "collapsed": true
   },
   "outputs": [],
   "source": [
    "maupassant_downloaded_books = read.table(\"maupassant.csv\",sep=\",\",header=1, encoding=\"UTF-8\")"
   ]
  },
  {
   "cell_type": "markdown",
   "metadata": {},
   "source": [
    "## Create corpus"
   ]
  },
  {
   "cell_type": "code",
   "execution_count": 6,
   "metadata": {},
   "outputs": [],
   "source": [
    "library(NLP)\n",
    "library(tm)"
   ]
  },
  {
   "cell_type": "code",
   "execution_count": 7,
   "metadata": {},
   "outputs": [
    {
     "data": {
      "text/plain": [
       "<<SimpleCorpus>>\n",
       "Metadata:  corpus specific: 1, document level (indexed): 0\n",
       "Content:  documents: 136214"
      ]
     },
     "metadata": {},
     "output_type": "display_data"
    }
   ],
   "source": [
    "m.corpus <- Corpus(VectorSource(as.character(maupassant_downloaded_books$text)))\n",
    "m.corpus"
   ]
  },
  {
   "cell_type": "code",
   "execution_count": 8,
   "metadata": {},
   "outputs": [
    {
     "data": {
      "text/html": [
       "<dl>\n",
       "\t<dt>$names</dt>\n",
       "\t\t<dd><ol class=list-inline>\n",
       "\t<li>'content'</li>\n",
       "\t<li>'meta'</li>\n",
       "\t<li>'dmeta'</li>\n",
       "</ol>\n",
       "</dd>\n",
       "\t<dt>$class</dt>\n",
       "\t\t<dd><ol class=list-inline>\n",
       "\t<li>'SimpleCorpus'</li>\n",
       "\t<li>'Corpus'</li>\n",
       "</ol>\n",
       "</dd>\n",
       "</dl>\n"
      ],
      "text/latex": [
       "\\begin{description}\n",
       "\\item[\\$names] \\begin{enumerate*}\n",
       "\\item 'content'\n",
       "\\item 'meta'\n",
       "\\item 'dmeta'\n",
       "\\end{enumerate*}\n",
       "\n",
       "\\item[\\$class] \\begin{enumerate*}\n",
       "\\item 'SimpleCorpus'\n",
       "\\item 'Corpus'\n",
       "\\end{enumerate*}\n",
       "\n",
       "\\end{description}\n"
      ],
      "text/markdown": [
       "$names\n",
       ":   1. 'content'\n",
       "2. 'meta'\n",
       "3. 'dmeta'\n",
       "\n",
       "\n",
       "\n",
       "$class\n",
       ":   1. 'SimpleCorpus'\n",
       "2. 'Corpus'\n",
       "\n",
       "\n",
       "\n",
       "\n",
       "\n"
      ],
      "text/plain": [
       "$names\n",
       "[1] \"content\" \"meta\"    \"dmeta\"  \n",
       "\n",
       "$class\n",
       "[1] \"SimpleCorpus\" \"Corpus\"      \n"
      ]
     },
     "metadata": {},
     "output_type": "display_data"
    },
    {
     "data": {
      "text/html": [
       "'list'"
      ],
      "text/latex": [
       "'list'"
      ],
      "text/markdown": [
       "'list'"
      ],
      "text/plain": [
       "[1] \"list\""
      ]
     },
     "metadata": {},
     "output_type": "display_data"
    },
    {
     "data": {
      "text/html": [
       "'ecus ou la longueur de leurs moustaches, couverts d\\'armes, de flanelle'"
      ],
      "text/latex": [
       "'ecus ou la longueur de leurs moustaches, couverts d\\textbackslash{}'armes, de flanelle'"
      ],
      "text/markdown": [
       "'ecus ou la longueur de leurs moustaches, couverts d\\'armes, de flanelle'"
      ],
      "text/plain": [
       "[1] \"ecus ou la longueur de leurs moustaches, couverts d'armes, de flanelle\""
      ]
     },
     "metadata": {},
     "output_type": "display_data"
    }
   ],
   "source": [
    "attributes(m.corpus)\n",
    "typeof(m.corpus)\n",
    "excerpt = 100\n",
    "m.corpus[[excerpt]]$content"
   ]
  },
  {
   "cell_type": "markdown",
   "metadata": {},
   "source": [
    "## Avoid encoding problems"
   ]
  },
  {
   "cell_type": "code",
   "execution_count": 9,
   "metadata": {
    "collapsed": true
   },
   "outputs": [],
   "source": [
    "m.corpus <- tm_map(m.corpus, function(x) iconv(enc2utf8(x), sub = \"byte\"))"
   ]
  },
  {
   "cell_type": "markdown",
   "metadata": {},
   "source": [
    "## Lowering"
   ]
  },
  {
   "cell_type": "code",
   "execution_count": 10,
   "metadata": {},
   "outputs": [
    {
     "data": {
      "text/html": [
       "'ecus ou la longueur de leurs moustaches, couverts d\\'armes, de flanelle'"
      ],
      "text/latex": [
       "'ecus ou la longueur de leurs moustaches, couverts d\\textbackslash{}'armes, de flanelle'"
      ],
      "text/markdown": [
       "'ecus ou la longueur de leurs moustaches, couverts d\\'armes, de flanelle'"
      ],
      "text/plain": [
       "[1] \"ecus ou la longueur de leurs moustaches, couverts d'armes, de flanelle\""
      ]
     },
     "metadata": {},
     "output_type": "display_data"
    }
   ],
   "source": [
    "m.corpus <- tm_map(m.corpus, content_transformer(tolower))\n",
    "m.corpus[[excerpt]]$content"
   ]
  },
  {
   "cell_type": "markdown",
   "metadata": {},
   "source": [
    "## Remove punctuation and numbers"
   ]
  },
  {
   "cell_type": "code",
   "execution_count": 11,
   "metadata": {},
   "outputs": [
    {
     "data": {
      "text/html": [
       "'ecus ou la longueur de leurs moustaches couverts d armes de flanelle'"
      ],
      "text/latex": [
       "'ecus ou la longueur de leurs moustaches couverts d armes de flanelle'"
      ],
      "text/markdown": [
       "'ecus ou la longueur de leurs moustaches couverts d armes de flanelle'"
      ],
      "text/plain": [
       "[1] \"ecus ou la longueur de leurs moustaches couverts d armes de flanelle\""
      ]
     },
     "metadata": {},
     "output_type": "display_data"
    }
   ],
   "source": [
    "toSpace <- content_transformer(function (x , pattern) gsub(pattern, \" \", x))\n",
    "m.corpus <- tm_map(m.corpus, toSpace, \"\\'\")\n",
    "m.corpus <- tm_map(m.corpus, removeNumbers)\n",
    "m.corpus <- tm_map(m.corpus, removePunctuation)\n",
    "m.corpus[[excerpt]]$content"
   ]
  },
  {
   "cell_type": "markdown",
   "metadata": {},
   "source": [
    "## Words - Documents Matrix"
   ]
  },
  {
   "cell_type": "code",
   "execution_count": 41,
   "metadata": {},
   "outputs": [
    {
     "name": "stdout",
     "output_type": "stream",
     "text": [
      "<<TermDocumentMatrix (terms: 40614, documents: 136214)>>\n",
      "Non-/sparse entries: 711470/5531483926\n",
      "Sparsity           : 100%\n",
      "Maximal term length: 42\n",
      "Weighting          : term frequency (tf)\n",
      "Sample             :\n",
      "      Docs\n",
      "Terms  10112 10558 11344 15287 27505 39126 57442 60275 6715 8851\n",
      "  dans     0     0     0     0     0     0     0     1    0    1\n",
      "  des      0     0     0     1     0     0     2     0    0    0\n",
      "  elle     0     0     0     0     0     0     0     0    0    0\n",
      "  les      1     1     0     0     0     0     0     3    1    1\n",
      "  pas      0     0     0     0     0     0     0     0    1    0\n",
      "  que      0     1     2     0     0     0     2     0    0    0\n",
      "  qui      1     2     0     0     2     1     0     0    0    0\n",
      "  son      0     0     2     1     2     0     2     0    0    0\n",
      "  sur      0     0     0     0     0     0     0     0    1    0\n",
      "  une      2     0     0     1     0     0     0     0    1    0\n"
     ]
    }
   ],
   "source": [
    "m.dtm <- TermDocumentMatrix(m.corpus)\n",
    "inspect(m.dtm)"
   ]
  },
  {
   "cell_type": "code",
   "execution_count": 57,
   "metadata": {},
   "outputs": [
    {
     "name": "stdout",
     "output_type": "stream",
     "text": [
      "<<TermDocumentMatrix (terms: 7, documents: 1)>>\n",
      "Non-/sparse entries: 7/0\n",
      "Sparsity           : 0%\n",
      "Maximal term length: 10\n",
      "Weighting          : term frequency (tf)\n",
      "Sample             :\n",
      "            Docs\n",
      "Terms        100\n",
      "  armes        1\n",
      "  couverts     1\n",
      "  ecus         1\n",
      "  flanelle     1\n",
      "  leurs        1\n",
      "  longueur     1\n",
      "  moustaches   1\n"
     ]
    }
   ],
   "source": [
    "excerpt <- 100\n",
    "q <- m.dtm[,excerpt]\n",
    "q <- as.vector(q)\n",
    "lignes.non.vides <- which(q > 0)\n",
    "inspect(m.dtm[lignes.non.vides,excerpt])"
   ]
  },
  {
   "cell_type": "code",
   "execution_count": 64,
   "metadata": {},
   "outputs": [
    {
     "data": {
      "image/png": "[encoded data removed]"
     },
     "metadata": {},
     "output_type": "display_data"
    }
   ],
   "source": [
    "m <- as.matrix(m.dtm[1:1000,1:200])\n",
    "m.freq <- rowSums(m)\n",
    "m.freq.sorted <- sort(hp.freq, decreasing=TRUE)\n",
    "barplot(m.freq.sorted[1:50], ylab=\"Frequency\", las=2)"
   ]
  },
  {
   "cell_type": "markdown",
   "metadata": {},
   "source": [
    "# Stop words"
   ]
  },
  {
   "cell_type": "code",
   "execution_count": 70,
   "metadata": {},
   "outputs": [
    {
     "data": {
      "text/html": [
       "<ol class=list-inline>\n",
       "\t<li>'au'</li>\n",
       "\t<li>'aux'</li>\n",
       "\t<li>'avec'</li>\n",
       "\t<li>'ce'</li>\n",
       "\t<li>'ces'</li>\n",
       "\t<li>'dans'</li>\n",
       "\t<li>'de'</li>\n",
       "\t<li>'des'</li>\n",
       "\t<li>'du'</li>\n",
       "\t<li>'elle'</li>\n",
       "\t<li>'en'</li>\n",
       "\t<li>'et'</li>\n",
       "\t<li>'eux'</li>\n",
       "\t<li>'il'</li>\n",
       "\t<li>'je'</li>\n",
       "\t<li>'la'</li>\n",
       "\t<li>'le'</li>\n",
       "\t<li>'leur'</li>\n",
       "\t<li>'lui'</li>\n",
       "\t<li>'ma'</li>\n",
       "\t<li>'mais'</li>\n",
       "\t<li>'me'</li>\n",
       "\t<li>'même'</li>\n",
       "\t<li>'mes'</li>\n",
       "\t<li>'moi'</li>\n",
       "\t<li>'mon'</li>\n",
       "\t<li>'ne'</li>\n",
       "\t<li>'nos'</li>\n",
       "\t<li>'notre'</li>\n",
       "\t<li>'nous'</li>\n",
       "\t<li>'on'</li>\n",
       "\t<li>'ou'</li>\n",
       "\t<li>'par'</li>\n",
       "\t<li>'pas'</li>\n",
       "\t<li>'pour'</li>\n",
       "\t<li>'qu'</li>\n",
       "\t<li>'que'</li>\n",
       "\t<li>'qui'</li>\n",
       "\t<li>'sa'</li>\n",
       "\t<li>'se'</li>\n",
       "\t<li>'ses'</li>\n",
       "\t<li>'son'</li>\n",
       "\t<li>'sur'</li>\n",
       "\t<li>'ta'</li>\n",
       "\t<li>'te'</li>\n",
       "\t<li>'tes'</li>\n",
       "\t<li>'toi'</li>\n",
       "\t<li>'ton'</li>\n",
       "\t<li>'tu'</li>\n",
       "\t<li>'un'</li>\n",
       "\t<li>'une'</li>\n",
       "\t<li>'vos'</li>\n",
       "\t<li>'votre'</li>\n",
       "\t<li>'vous'</li>\n",
       "\t<li>'c'</li>\n",
       "\t<li>'d'</li>\n",
       "\t<li>'j'</li>\n",
       "\t<li>'l'</li>\n",
       "\t<li>'à'</li>\n",
       "\t<li>'m'</li>\n",
       "\t<li>'n'</li>\n",
       "\t<li>'s'</li>\n",
       "\t<li>'t'</li>\n",
       "\t<li>'y'</li>\n",
       "\t<li>'été'</li>\n",
       "\t<li>'étée'</li>\n",
       "\t<li>'étées'</li>\n",
       "\t<li>'étés'</li>\n",
       "\t<li>'étant'</li>\n",
       "\t<li>'suis'</li>\n",
       "\t<li>'es'</li>\n",
       "\t<li>'est'</li>\n",
       "\t<li>'sommes'</li>\n",
       "\t<li>'êtes'</li>\n",
       "\t<li>'sont'</li>\n",
       "\t<li>'serai'</li>\n",
       "\t<li>'seras'</li>\n",
       "\t<li>'sera'</li>\n",
       "\t<li>'serons'</li>\n",
       "\t<li>'serez'</li>\n",
       "\t<li>'seront'</li>\n",
       "\t<li>'serais'</li>\n",
       "\t<li>'serait'</li>\n",
       "\t<li>'serions'</li>\n",
       "\t<li>'seriez'</li>\n",
       "\t<li>'seraient'</li>\n",
       "\t<li>'étais'</li>\n",
       "\t<li>'était'</li>\n",
       "\t<li>'étions'</li>\n",
       "\t<li>'étiez'</li>\n",
       "\t<li>'étaient'</li>\n",
       "\t<li>'fus'</li>\n",
       "\t<li>'fut'</li>\n",
       "\t<li>'fûmes'</li>\n",
       "\t<li>'fûtes'</li>\n",
       "\t<li>'furent'</li>\n",
       "\t<li>'sois'</li>\n",
       "\t<li>'soit'</li>\n",
       "\t<li>'soyons'</li>\n",
       "\t<li>'soyez'</li>\n",
       "\t<li>'soient'</li>\n",
       "\t<li>'fusse'</li>\n",
       "\t<li>'fusses'</li>\n",
       "\t<li>'fût'</li>\n",
       "\t<li>'fussions'</li>\n",
       "\t<li>'fussiez'</li>\n",
       "\t<li>'fussent'</li>\n",
       "\t<li>'ayant'</li>\n",
       "\t<li>'eu'</li>\n",
       "\t<li>'eue'</li>\n",
       "\t<li>'eues'</li>\n",
       "\t<li>'eus'</li>\n",
       "\t<li>'ai'</li>\n",
       "\t<li>'as'</li>\n",
       "\t<li>'avons'</li>\n",
       "\t<li>'avez'</li>\n",
       "\t<li>'ont'</li>\n",
       "\t<li>'aurai'</li>\n",
       "\t<li>'auras'</li>\n",
       "\t<li>'aura'</li>\n",
       "\t<li>'aurons'</li>\n",
       "\t<li>'aurez'</li>\n",
       "\t<li>'auront'</li>\n",
       "\t<li>'aurais'</li>\n",
       "\t<li>'aurait'</li>\n",
       "\t<li>'aurions'</li>\n",
       "\t<li>'auriez'</li>\n",
       "\t<li>'auraient'</li>\n",
       "\t<li>'avais'</li>\n",
       "\t<li>'avait'</li>\n",
       "\t<li>'avions'</li>\n",
       "\t<li>'aviez'</li>\n",
       "\t<li>'avaient'</li>\n",
       "\t<li>'eut'</li>\n",
       "\t<li>'eûmes'</li>\n",
       "\t<li>'eûtes'</li>\n",
       "\t<li>'eurent'</li>\n",
       "\t<li>'aie'</li>\n",
       "\t<li>'aies'</li>\n",
       "\t<li>'ait'</li>\n",
       "\t<li>'ayons'</li>\n",
       "\t<li>'ayez'</li>\n",
       "\t<li>'aient'</li>\n",
       "\t<li>'eusse'</li>\n",
       "\t<li>'eusses'</li>\n",
       "\t<li>'eût'</li>\n",
       "\t<li>'eussions'</li>\n",
       "\t<li>'eussiez'</li>\n",
       "\t<li>'eussent'</li>\n",
       "\t<li>'ceci'</li>\n",
       "\t<li>'cela'</li>\n",
       "\t<li>'celà'</li>\n",
       "\t<li>'cet'</li>\n",
       "\t<li>'cette'</li>\n",
       "\t<li>'ici'</li>\n",
       "\t<li>'ils'</li>\n",
       "\t<li>'les'</li>\n",
       "\t<li>'leurs'</li>\n",
       "\t<li>'quel'</li>\n",
       "\t<li>'quels'</li>\n",
       "\t<li>'quelle'</li>\n",
       "\t<li>'quelles'</li>\n",
       "\t<li>'sans'</li>\n",
       "\t<li>'soi'</li>\n",
       "</ol>\n"
      ],
      "text/latex": [
       "\\begin{enumerate*}\n",
       "\\item 'au'\n",
       "\\item 'aux'\n",
       "\\item 'avec'\n",
       "\\item 'ce'\n",
       "\\item 'ces'\n",
       "\\item 'dans'\n",
       "\\item 'de'\n",
       "\\item 'des'\n",
       "\\item 'du'\n",
       "\\item 'elle'\n",
       "\\item 'en'\n",
       "\\item 'et'\n",
       "\\item 'eux'\n",
       "\\item 'il'\n",
       "\\item 'je'\n",
       "\\item 'la'\n",
       "\\item 'le'\n",
       "\\item 'leur'\n",
       "\\item 'lui'\n",
       "\\item 'ma'\n",
       "\\item 'mais'\n",
       "\\item 'me'\n",
       "\\item 'même'\n",
       "\\item 'mes'\n",
       "\\item 'moi'\n",
       "\\item 'mon'\n",
       "\\item 'ne'\n",
       "\\item 'nos'\n",
       "\\item 'notre'\n",
       "\\item 'nous'\n",
       "\\item 'on'\n",
       "\\item 'ou'\n",
       "\\item 'par'\n",
       "\\item 'pas'\n",
       "\\item 'pour'\n",
       "\\item 'qu'\n",
       "\\item 'que'\n",
       "\\item 'qui'\n",
       "\\item 'sa'\n",
       "\\item 'se'\n",
       "\\item 'ses'\n",
       "\\item 'son'\n",
       "\\item 'sur'\n",
       "\\item 'ta'\n",
       "\\item 'te'\n",
       "\\item 'tes'\n",
       "\\item 'toi'\n",
       "\\item 'ton'\n",
       "\\item 'tu'\n",
       "\\item 'un'\n",
       "\\item 'une'\n",
       "\\item 'vos'\n",
       "\\item 'votre'\n",
       "\\item 'vous'\n",
       "\\item 'c'\n",
       "\\item 'd'\n",
       "\\item 'j'\n",
       "\\item 'l'\n",
       "\\item 'à'\n",
       "\\item 'm'\n",
       "\\item 'n'\n",
       "\\item 's'\n",
       "\\item 't'\n",
       "\\item 'y'\n",
       "\\item 'été'\n",
       "\\item 'étée'\n",
       "\\item 'étées'\n",
       "\\item 'étés'\n",
       "\\item 'étant'\n",
       "\\item 'suis'\n",
       "\\item 'es'\n",
       "\\item 'est'\n",
       "\\item 'sommes'\n",
       "\\item 'êtes'\n",
       "\\item 'sont'\n",
       "\\item 'serai'\n",
       "\\item 'seras'\n",
       "\\item 'sera'\n",
       "\\item 'serons'\n",
       "\\item 'serez'\n",
       "\\item 'seront'\n",
       "\\item 'serais'\n",
       "\\item 'serait'\n",
       "\\item 'serions'\n",
       "\\item 'seriez'\n",
       "\\item 'seraient'\n",
       "\\item 'étais'\n",
       "\\item 'était'\n",
       "\\item 'étions'\n",
       "\\item 'étiez'\n",
       "\\item 'étaient'\n",
       "\\item 'fus'\n",
       "\\item 'fut'\n",
       "\\item 'fûmes'\n",
       "\\item 'fûtes'\n",
       "\\item 'furent'\n",
       "\\item 'sois'\n",
       "\\item 'soit'\n",
       "\\item 'soyons'\n",
       "\\item 'soyez'\n",
       "\\item 'soient'\n",
       "\\item 'fusse'\n",
       "\\item 'fusses'\n",
       "\\item 'fût'\n",
       "\\item 'fussions'\n",
       "\\item 'fussiez'\n",
       "\\item 'fussent'\n",
       "\\item 'ayant'\n",
       "\\item 'eu'\n",
       "\\item 'eue'\n",
       "\\item 'eues'\n",
       "\\item 'eus'\n",
       "\\item 'ai'\n",
       "\\item 'as'\n",
       "\\item 'avons'\n",
       "\\item 'avez'\n",
       "\\item 'ont'\n",
       "\\item 'aurai'\n",
       "\\item 'auras'\n",
       "\\item 'aura'\n",
       "\\item 'aurons'\n",
       "\\item 'aurez'\n",
       "\\item 'auront'\n",
       "\\item 'aurais'\n",
       "\\item 'aurait'\n",
       "\\item 'aurions'\n",
       "\\item 'auriez'\n",
       "\\item 'auraient'\n",
       "\\item 'avais'\n",
       "\\item 'avait'\n",
       "\\item 'avions'\n",
       "\\item 'aviez'\n",
       "\\item 'avaient'\n",
       "\\item 'eut'\n",
       "\\item 'eûmes'\n",
       "\\item 'eûtes'\n",
       "\\item 'eurent'\n",
       "\\item 'aie'\n",
       "\\item 'aies'\n",
       "\\item 'ait'\n",
       "\\item 'ayons'\n",
       "\\item 'ayez'\n",
       "\\item 'aient'\n",
       "\\item 'eusse'\n",
       "\\item 'eusses'\n",
       "\\item 'eût'\n",
       "\\item 'eussions'\n",
       "\\item 'eussiez'\n",
       "\\item 'eussent'\n",
       "\\item 'ceci'\n",
       "\\item 'cela'\n",
       "\\item 'celà'\n",
       "\\item 'cet'\n",
       "\\item 'cette'\n",
       "\\item 'ici'\n",
       "\\item 'ils'\n",
       "\\item 'les'\n",
       "\\item 'leurs'\n",
       "\\item 'quel'\n",
       "\\item 'quels'\n",
       "\\item 'quelle'\n",
       "\\item 'quelles'\n",
       "\\item 'sans'\n",
       "\\item 'soi'\n",
       "\\end{enumerate*}\n"
      ],
      "text/markdown": [
       "1. 'au'\n",
       "2. 'aux'\n",
       "3. 'avec'\n",
       "4. 'ce'\n",
       "5. 'ces'\n",
       "6. 'dans'\n",
       "7. 'de'\n",
       "8. 'des'\n",
       "9. 'du'\n",
       "10. 'elle'\n",
       "11. 'en'\n",
       "12. 'et'\n",
       "13. 'eux'\n",
       "14. 'il'\n",
       "15. 'je'\n",
       "16. 'la'\n",
       "17. 'le'\n",
       "18. 'leur'\n",
       "19. 'lui'\n",
       "20. 'ma'\n",
       "21. 'mais'\n",
       "22. 'me'\n",
       "23. 'même'\n",
       "24. 'mes'\n",
       "25. 'moi'\n",
       "26. 'mon'\n",
       "27. 'ne'\n",
       "28. 'nos'\n",
       "29. 'notre'\n",
       "30. 'nous'\n",
       "31. 'on'\n",
       "32. 'ou'\n",
       "33. 'par'\n",
       "34. 'pas'\n",
       "35. 'pour'\n",
       "36. 'qu'\n",
       "37. 'que'\n",
       "38. 'qui'\n",
       "39. 'sa'\n",
       "40. 'se'\n",
       "41. 'ses'\n",
       "42. 'son'\n",
       "43. 'sur'\n",
       "44. 'ta'\n",
       "45. 'te'\n",
       "46. 'tes'\n",
       "47. 'toi'\n",
       "48. 'ton'\n",
       "49. 'tu'\n",
       "50. 'un'\n",
       "51. 'une'\n",
       "52. 'vos'\n",
       "53. 'votre'\n",
       "54. 'vous'\n",
       "55. 'c'\n",
       "56. 'd'\n",
       "57. 'j'\n",
       "58. 'l'\n",
       "59. 'à'\n",
       "60. 'm'\n",
       "61. 'n'\n",
       "62. 's'\n",
       "63. 't'\n",
       "64. 'y'\n",
       "65. 'été'\n",
       "66. 'étée'\n",
       "67. 'étées'\n",
       "68. 'étés'\n",
       "69. 'étant'\n",
       "70. 'suis'\n",
       "71. 'es'\n",
       "72. 'est'\n",
       "73. 'sommes'\n",
       "74. 'êtes'\n",
       "75. 'sont'\n",
       "76. 'serai'\n",
       "77. 'seras'\n",
       "78. 'sera'\n",
       "79. 'serons'\n",
       "80. 'serez'\n",
       "81. 'seront'\n",
       "82. 'serais'\n",
       "83. 'serait'\n",
       "84. 'serions'\n",
       "85. 'seriez'\n",
       "86. 'seraient'\n",
       "87. 'étais'\n",
       "88. 'était'\n",
       "89. 'étions'\n",
       "90. 'étiez'\n",
       "91. 'étaient'\n",
       "92. 'fus'\n",
       "93. 'fut'\n",
       "94. 'fûmes'\n",
       "95. 'fûtes'\n",
       "96. 'furent'\n",
       "97. 'sois'\n",
       "98. 'soit'\n",
       "99. 'soyons'\n",
       "100. 'soyez'\n",
       "101. 'soient'\n",
       "102. 'fusse'\n",
       "103. 'fusses'\n",
       "104. 'fût'\n",
       "105. 'fussions'\n",
       "106. 'fussiez'\n",
       "107. 'fussent'\n",
       "108. 'ayant'\n",
       "109. 'eu'\n",
       "110. 'eue'\n",
       "111. 'eues'\n",
       "112. 'eus'\n",
       "113. 'ai'\n",
       "114. 'as'\n",
       "115. 'avons'\n",
       "116. 'avez'\n",
       "117. 'ont'\n",
       "118. 'aurai'\n",
       "119. 'auras'\n",
       "120. 'aura'\n",
       "121. 'aurons'\n",
       "122. 'aurez'\n",
       "123. 'auront'\n",
       "124. 'aurais'\n",
       "125. 'aurait'\n",
       "126. 'aurions'\n",
       "127. 'auriez'\n",
       "128. 'auraient'\n",
       "129. 'avais'\n",
       "130. 'avait'\n",
       "131. 'avions'\n",
       "132. 'aviez'\n",
       "133. 'avaient'\n",
       "134. 'eut'\n",
       "135. 'eûmes'\n",
       "136. 'eûtes'\n",
       "137. 'eurent'\n",
       "138. 'aie'\n",
       "139. 'aies'\n",
       "140. 'ait'\n",
       "141. 'ayons'\n",
       "142. 'ayez'\n",
       "143. 'aient'\n",
       "144. 'eusse'\n",
       "145. 'eusses'\n",
       "146. 'eût'\n",
       "147. 'eussions'\n",
       "148. 'eussiez'\n",
       "149. 'eussent'\n",
       "150. 'ceci'\n",
       "151. 'cela'\n",
       "152. 'celà'\n",
       "153. 'cet'\n",
       "154. 'cette'\n",
       "155. 'ici'\n",
       "156. 'ils'\n",
       "157. 'les'\n",
       "158. 'leurs'\n",
       "159. 'quel'\n",
       "160. 'quels'\n",
       "161. 'quelle'\n",
       "162. 'quelles'\n",
       "163. 'sans'\n",
       "164. 'soi'\n",
       "\n",
       "\n"
      ],
      "text/plain": [
       "  [1] \"au\"       \"aux\"      \"avec\"     \"ce\"       \"ces\"      \"dans\"    \n",
       "  [7] \"de\"       \"des\"      \"du\"       \"elle\"     \"en\"       \"et\"      \n",
       " [13] \"eux\"      \"il\"       \"je\"       \"la\"       \"le\"       \"leur\"    \n",
       " [19] \"lui\"      \"ma\"       \"mais\"     \"me\"       \"même\"     \"mes\"     \n",
       " [25] \"moi\"      \"mon\"      \"ne\"       \"nos\"      \"notre\"    \"nous\"    \n",
       " [31] \"on\"       \"ou\"       \"par\"      \"pas\"      \"pour\"     \"qu\"      \n",
       " [37] \"que\"      \"qui\"      \"sa\"       \"se\"       \"ses\"      \"son\"     \n",
       " [43] \"sur\"      \"ta\"       \"te\"       \"tes\"      \"toi\"      \"ton\"     \n",
       " [49] \"tu\"       \"un\"       \"une\"      \"vos\"      \"votre\"    \"vous\"    \n",
       " [55] \"c\"        \"d\"        \"j\"        \"l\"        \"à\"        \"m\"       \n",
       " [61] \"n\"        \"s\"        \"t\"        \"y\"        \"été\"      \"étée\"    \n",
       " [67] \"étées\"    \"étés\"     \"étant\"    \"suis\"     \"es\"       \"est\"     \n",
       " [73] \"sommes\"   \"êtes\"     \"sont\"     \"serai\"    \"seras\"    \"sera\"    \n",
       " [79] \"serons\"   \"serez\"    \"seront\"   \"serais\"   \"serait\"   \"serions\" \n",
       " [85] \"seriez\"   \"seraient\" \"étais\"    \"était\"    \"étions\"   \"étiez\"   \n",
       " [91] \"étaient\"  \"fus\"      \"fut\"      \"fûmes\"    \"fûtes\"    \"furent\"  \n",
       " [97] \"sois\"     \"soit\"     \"soyons\"   \"soyez\"    \"soient\"   \"fusse\"   \n",
       "[103] \"fusses\"   \"fût\"      \"fussions\" \"fussiez\"  \"fussent\"  \"ayant\"   \n",
       "[109] \"eu\"       \"eue\"      \"eues\"     \"eus\"      \"ai\"       \"as\"      \n",
       "[115] \"avons\"    \"avez\"     \"ont\"      \"aurai\"    \"auras\"    \"aura\"    \n",
       "[121] \"aurons\"   \"aurez\"    \"auront\"   \"aurais\"   \"aurait\"   \"aurions\" \n",
       "[127] \"auriez\"   \"auraient\" \"avais\"    \"avait\"    \"avions\"   \"aviez\"   \n",
       "[133] \"avaient\"  \"eut\"      \"eûmes\"    \"eûtes\"    \"eurent\"   \"aie\"     \n",
       "[139] \"aies\"     \"ait\"      \"ayons\"    \"ayez\"     \"aient\"    \"eusse\"   \n",
       "[145] \"eusses\"   \"eût\"      \"eussions\" \"eussiez\"  \"eussent\"  \"ceci\"    \n",
       "[151] \"cela\"     \"celà\"     \"cet\"      \"cette\"    \"ici\"      \"ils\"     \n",
       "[157] \"les\"      \"leurs\"    \"quel\"     \"quels\"    \"quelle\"   \"quelles\" \n",
       "[163] \"sans\"     \"soi\"     "
      ]
     },
     "metadata": {},
     "output_type": "display_data"
    }
   ],
   "source": [
    "stopwords(\"french\")\n",
    "#french_stopwords <- c(stopwords(\"french\"), \"blablabla\")\n",
    "if(FALSE){\n",
    "    lang <- c(\"danish\", \"dutch\", \"english\", \"finnish\", \"french\", \"german\", \"hungarian\", \"italian\", \"norwegian\", \"portuguese\", \"russian\", \"spanish\", \"swedish\")\n",
    "    ch <- \"Voilà un test en français un peu plus long et on continue\"\n",
    "    ch.token <- sort(tolower(unlist(strsplit(ch, \"[^[:alpha:]]\"))))\n",
    "    ch.token <- ch.token[ch.token != \"\"]\n",
    "    tab.lang <- sapply(lang, function(x) length(intersect(ch.token, stopwords(x))))\n",
    "    t(tab.lang)\n",
    "    sprintf(\"My guess is: %s\", lang[which(tab.lang == max(tab.lang))])\n",
    "}"
   ]
  },
  {
   "cell_type": "code",
   "execution_count": 66,
   "metadata": {
    "collapsed": true
   },
   "outputs": [],
   "source": [
    "m.corpus.sw <- tm_map(m.corpus, removeWords, stopwords('french'))"
   ]
  },
  {
   "cell_type": "code",
   "execution_count": 67,
   "metadata": {},
   "outputs": [
    {
     "data": {
      "image/png": "[encoded data removed]"
     },
     "metadata": {},
     "output_type": "display_data"
    }
   ],
   "source": [
    "m.dtm.sw <- TermDocumentMatrix(m.corpus.sw)\n",
    "m <- as.matrix(m.dtm.sw[1:1000,1:200])\n",
    "m.freq <- rowSums(m)\n",
    "m.freq.sorted <- sort(m.freq, decreasing=TRUE)\n",
    "barplot(m.freq.sorted[1:50], ylab=\"Frequency\", las=2)"
   ]
  },
  {
   "cell_type": "markdown",
   "metadata": {},
   "source": [
    "## Steming"
   ]
  },
  {
   "cell_type": "code",
   "execution_count": null,
   "metadata": {
    "collapsed": true
   },
   "outputs": [],
   "source": []
  }
 ],
 "metadata": {
  "kernelspec": {
   "display_name": "R",
   "language": "R",
   "name": "ir"
  },
  "language_info": {
   "codemirror_mode": "r",
   "file_extension": ".r",
   "mimetype": "text/x-r-source",
   "name": "R",
   "pygments_lexer": "r",
   "version": "3.3.3"
  }
 },
 "nbformat": 4,
 "nbformat_minor": 2
}
